{
  "cells": [
    {
      "cell_type": "markdown",
      "metadata": {
        "id": "MfnIvagy3ebw"
      },
      "source": [
        "**Importing Libraries**\n"
      ]
    },
    {
      "cell_type": "code",
      "execution_count": null,
      "metadata": {
        "id": "Gle_HlVFoTQW"
      },
      "outputs": [],
      "source": [
        "import pandas as pd\n",
        "from sklearn.model_selection import train_test_split\n",
        "import numpy as np\n",
        "import matplotlib.pyplot as plt\n",
        "import matplotlib.axes as ax"
      ]
    },
    {
      "cell_type": "code",
      "execution_count": null,
      "metadata": {
        "id": "MAnAUjCvoiDQ"
      },
      "outputs": [],
      "source": [
        "df =  pd.read_csv(\"StudentsPerformance.csv\")\n"
      ]
    },
    {
      "cell_type": "code",
      "execution_count": null,
      "metadata": {
        "colab": {
          "base_uri": "https://localhost:8080/",
          "height": 203
        },
        "id": "Hg-2ifltol5i",
        "outputId": "5dfd98c2-5bd1-4fbc-812b-028bc3e1f63c"
      },
      "outputs": [
        {
          "data": {
            "text/html": [
              "<div>\n",
              "<style scoped>\n",
              "    .dataframe tbody tr th:only-of-type {\n",
              "        vertical-align: middle;\n",
              "    }\n",
              "\n",
              "    .dataframe tbody tr th {\n",
              "        vertical-align: top;\n",
              "    }\n",
              "\n",
              "    .dataframe thead th {\n",
              "        text-align: right;\n",
              "    }\n",
              "</style>\n",
              "<table border=\"1\" class=\"dataframe\">\n",
              "  <thead>\n",
              "    <tr style=\"text-align: right;\">\n",
              "      <th></th>\n",
              "      <th>gender</th>\n",
              "      <th>race/ethnicity</th>\n",
              "      <th>parental level of education</th>\n",
              "      <th>lunch</th>\n",
              "      <th>test preparation course</th>\n",
              "      <th>math score</th>\n",
              "      <th>reading score</th>\n",
              "      <th>writing score</th>\n",
              "    </tr>\n",
              "  </thead>\n",
              "  <tbody>\n",
              "    <tr>\n",
              "      <th>0</th>\n",
              "      <td>female</td>\n",
              "      <td>group B</td>\n",
              "      <td>bachelor's degree</td>\n",
              "      <td>standard</td>\n",
              "      <td>none</td>\n",
              "      <td>72</td>\n",
              "      <td>72</td>\n",
              "      <td>74</td>\n",
              "    </tr>\n",
              "    <tr>\n",
              "      <th>1</th>\n",
              "      <td>female</td>\n",
              "      <td>group C</td>\n",
              "      <td>some college</td>\n",
              "      <td>standard</td>\n",
              "      <td>completed</td>\n",
              "      <td>69</td>\n",
              "      <td>90</td>\n",
              "      <td>88</td>\n",
              "    </tr>\n",
              "    <tr>\n",
              "      <th>2</th>\n",
              "      <td>female</td>\n",
              "      <td>group B</td>\n",
              "      <td>master's degree</td>\n",
              "      <td>standard</td>\n",
              "      <td>none</td>\n",
              "      <td>90</td>\n",
              "      <td>95</td>\n",
              "      <td>93</td>\n",
              "    </tr>\n",
              "    <tr>\n",
              "      <th>3</th>\n",
              "      <td>male</td>\n",
              "      <td>group A</td>\n",
              "      <td>associate's degree</td>\n",
              "      <td>free/reduced</td>\n",
              "      <td>none</td>\n",
              "      <td>47</td>\n",
              "      <td>57</td>\n",
              "      <td>44</td>\n",
              "    </tr>\n",
              "    <tr>\n",
              "      <th>4</th>\n",
              "      <td>male</td>\n",
              "      <td>group C</td>\n",
              "      <td>some college</td>\n",
              "      <td>standard</td>\n",
              "      <td>none</td>\n",
              "      <td>76</td>\n",
              "      <td>78</td>\n",
              "      <td>75</td>\n",
              "    </tr>\n",
              "  </tbody>\n",
              "</table>\n",
              "</div>"
            ],
            "text/plain": [
              "   gender race/ethnicity  ... reading score writing score\n",
              "0  female        group B  ...            72            74\n",
              "1  female        group C  ...            90            88\n",
              "2  female        group B  ...            95            93\n",
              "3    male        group A  ...            57            44\n",
              "4    male        group C  ...            78            75\n",
              "\n",
              "[5 rows x 8 columns]"
            ]
          },
          "execution_count": 62,
          "metadata": {},
          "output_type": "execute_result"
        }
      ],
      "source": [
        "df.head()"
      ]
    },
    {
      "cell_type": "code",
      "execution_count": null,
      "metadata": {
        "colab": {
          "base_uri": "https://localhost:8080/"
        },
        "id": "ZRvICjPBonJX",
        "outputId": "f66b9037-b8b6-4902-c822-464a0d954005"
      },
      "outputs": [
        {
          "data": {
            "text/plain": [
              "(1000, 8)"
            ]
          },
          "execution_count": 63,
          "metadata": {},
          "output_type": "execute_result"
        }
      ],
      "source": [
        "df.shape"
      ]
    },
    {
      "cell_type": "code",
      "execution_count": null,
      "metadata": {
        "colab": {
          "base_uri": "https://localhost:8080/"
        },
        "id": "PNSHr6PUopBM",
        "outputId": "859110c9-80c4-4375-c46e-197d48e6370f"
      },
      "outputs": [
        {
          "data": {
            "text/plain": [
              "gender                         0\n",
              "race/ethnicity                 0\n",
              "parental level of education    0\n",
              "lunch                          0\n",
              "test preparation course        0\n",
              "math score                     0\n",
              "reading score                  0\n",
              "writing score                  0\n",
              "dtype: int64"
            ]
          },
          "execution_count": 64,
          "metadata": {},
          "output_type": "execute_result"
        }
      ],
      "source": [
        "df.isnull().sum()"
      ]
    },
    {
      "cell_type": "code",
      "execution_count": null,
      "metadata": {
        "id": "gW3exyAYHESG"
      },
      "outputs": [],
      "source": [
        "df[\"total\"]=df.sum(axis=1)"
      ]
    },
    {
      "cell_type": "code",
      "execution_count": null,
      "metadata": {
        "id": "Qrj1xkoL-7Ll"
      },
      "outputs": [],
      "source": [
        "df= df.loc[:,[\"writing score\",\"total\"]]"
      ]
    },
    {
      "cell_type": "code",
      "execution_count": null,
      "metadata": {
        "colab": {
          "base_uri": "https://localhost:8080/"
        },
        "id": "oFFe44Vdo77P",
        "outputId": "de5a1ea9-cb47-4570-fb4b-36989c89ca53"
      },
      "outputs": [
        {
          "name": "stdout",
          "output_type": "stream",
          "text": [
            "<class 'pandas.core.frame.DataFrame'>\n",
            "RangeIndex: 1000 entries, 0 to 999\n",
            "Data columns (total 2 columns):\n",
            " #   Column         Non-Null Count  Dtype\n",
            "---  ------         --------------  -----\n",
            " 0   writing score  1000 non-null   int64\n",
            " 1   total          1000 non-null   int64\n",
            "dtypes: int64(2)\n",
            "memory usage: 15.8 KB\n"
          ]
        }
      ],
      "source": [
        "df.info()\n"
      ]
    },
    {
      "cell_type": "markdown",
      "metadata": {
        "id": "FThg9ISTyEA4"
      },
      "source": [
        "**Train And Test Split**"
      ]
    },
    {
      "cell_type": "code",
      "execution_count": null,
      "metadata": {
        "id": "lsvPIHJopAZa"
      },
      "outputs": [],
      "source": [
        "x_train= np.array(df[\"writing score\"][0:500]).reshape(500,1)\n",
        "y_train= np.array(df.total[0:500]).reshape(500,1);\n",
        "\n",
        "\n",
        "x_test= np.array(df[\"writing score\"][500:600]).reshape(100,1)\n",
        "y_test= np.array(df.total[500:600]).reshape(100,1);\n",
        "\n"
      ]
    },
    {
      "cell_type": "code",
      "execution_count": null,
      "metadata": {
        "colab": {
          "base_uri": "https://localhost:8080/"
        },
        "id": "tbhJD6_Cswn_",
        "outputId": "3872622e-82f7-4356-902c-600ffcaafb96"
      },
      "outputs": [
        {
          "data": {
            "text/plain": [
              "(500, 1)"
            ]
          },
          "execution_count": 69,
          "metadata": {},
          "output_type": "execute_result"
        }
      ],
      "source": [
        "y_train.shape"
      ]
    },
    {
      "cell_type": "code",
      "execution_count": null,
      "metadata": {
        "colab": {
          "base_uri": "https://localhost:8080/"
        },
        "id": "asFRgrq9tTv0",
        "outputId": "183b35a5-4801-428e-d399-996bf28f64b3"
      },
      "outputs": [
        {
          "data": {
            "text/plain": [
              "(500, 1)"
            ]
          },
          "execution_count": 70,
          "metadata": {},
          "output_type": "execute_result"
        }
      ],
      "source": [
        "x_train.shape"
      ]
    },
    {
      "cell_type": "markdown",
      "metadata": {
        "id": "8rDMpx9T3ne4"
      },
      "source": [
        "**Importing required Sklearn lib and fitting data**"
      ]
    },
    {
      "cell_type": "code",
      "execution_count": null,
      "metadata": {
        "colab": {
          "base_uri": "https://localhost:8080/"
        },
        "id": "VPGk2vZbSbFh",
        "outputId": "65070591-fbe4-4401-fdcb-e74c3b79267b"
      },
      "outputs": [
        {
          "data": {
            "text/plain": [
              "PolynomialFeatures(degree=3, include_bias=True, interaction_only=False,\n",
              "                   order='C')"
            ]
          },
          "execution_count": 86,
          "metadata": {},
          "output_type": "execute_result"
        }
      ],
      "source": [
        "from sklearn.linear_model import LinearRegression\n",
        "from sklearn.preprocessing import PolynomialFeatures\n",
        "poly_regressor= PolynomialFeatures(degree=3)\n",
        "train_input_poly= poly_regressor.fit_transform(x_train)\n",
        "poly_regressor.fit(x_train,y_train)"
      ]
    },
    {
      "cell_type": "code",
      "execution_count": null,
      "metadata": {
        "colab": {
          "base_uri": "https://localhost:8080/"
        },
        "id": "VpghjefIkJmk",
        "outputId": "2480803b-d7ce-4cd5-9519-ac7e7e363f7d"
      },
      "outputs": [
        {
          "data": {
            "text/plain": [
              "array([[1.00000e+00, 7.40000e+01, 5.47600e+03, 4.05224e+05],\n",
              "       [1.00000e+00, 8.80000e+01, 7.74400e+03, 6.81472e+05],\n",
              "       [1.00000e+00, 9.30000e+01, 8.64900e+03, 8.04357e+05],\n",
              "       ...,\n",
              "       [1.00000e+00, 7.60000e+01, 5.77600e+03, 4.38976e+05],\n",
              "       [1.00000e+00, 6.80000e+01, 4.62400e+03, 3.14432e+05],\n",
              "       [1.00000e+00, 7.20000e+01, 5.18400e+03, 3.73248e+05]])"
            ]
          },
          "execution_count": 87,
          "metadata": {},
          "output_type": "execute_result"
        }
      ],
      "source": [
        "train_input_poly "
      ]
    },
    {
      "cell_type": "code",
      "execution_count": null,
      "metadata": {
        "colab": {
          "base_uri": "https://localhost:8080/"
        },
        "id": "aSIE_Lp-kmSD",
        "outputId": "dfa69ec9-c7de-4235-d36f-01535271e2a8"
      },
      "outputs": [
        {
          "data": {
            "text/plain": [
              "LinearRegression(copy_X=True, fit_intercept=True, n_jobs=None, normalize=False)"
            ]
          },
          "execution_count": 88,
          "metadata": {},
          "output_type": "execute_result"
        }
      ],
      "source": [
        "linear_regressor=LinearRegression()\n",
        "linear_regressor.fit(train_input_poly,y_train)"
      ]
    },
    {
      "cell_type": "code",
      "execution_count": null,
      "metadata": {
        "id": "3sfWabWflQzK"
      },
      "outputs": [],
      "source": [
        "predicted_value= linear_regressor.predict(poly_regressor.fit_transform(x_test))\n"
      ]
    },
    {
      "cell_type": "markdown",
      "metadata": {
        "id": "m7ZZ3Qzy36yT"
      },
      "source": [
        "**Calculating Error**"
      ]
    },
    {
      "cell_type": "code",
      "execution_count": null,
      "metadata": {
        "colab": {
          "base_uri": "https://localhost:8080/"
        },
        "id": "aogq7-tilkie",
        "outputId": "925b4f87-d08a-4bd0-ef14-0c50e04af888"
      },
      "outputs": [
        {
          "data": {
            "text/plain": [
              "126.5486149162295"
            ]
          },
          "execution_count": 90,
          "metadata": {},
          "output_type": "execute_result"
        }
      ],
      "source": [
        "from sklearn.metrics import mean_squared_error\n",
        "\n",
        "error=mean_squared_error(predicted_value, y_test)\n",
        "error"
      ]
    },
    {
      "cell_type": "markdown",
      "metadata": {
        "id": "Is9pRLTX3_Qr"
      },
      "source": [
        "**Plotting the Graph-Visualization**"
      ]
    },
    {
      "cell_type": "code",
      "execution_count": null,
      "metadata": {
        "colab": {
          "base_uri": "https://localhost:8080/",
          "height": 295
        },
        "id": "QJ1e3AsBLchZ",
        "outputId": "cf764ace-4c7d-42e5-9cf7-8720073d0018"
      },
      "outputs": [
        {
          "data": {
            "image/png": "[encoded data removed]",
            "text/plain": [
              "<Figure size 432x288 with 1 Axes>"
            ]
          },
          "metadata": {
            "needs_background": "light"
          },
          "output_type": "display_data"
        }
      ],
      "source": [
        "plt.plot(x_test,y_test,'+',color='red')\n",
        "plt.plot(x_test,predicted_value,'--',color='green')\n",
        "plt.xlabel('Input')\n",
        "plt.ylabel('Output')\n",
        "plt.title(\"poly linear regression graph\")\n",
        "plt.show()"
      ]
    },
    {
      "cell_type": "code",
      "execution_count": null,
      "metadata": {
        "id": "RAW4PL-BnqD5"
      },
      "outputs": [],
      "source": []
    }
  ],
  "metadata": {
    "colab": {
      "collapsed_sections": [],
      "name": "polynomialLinearRegression.ipynb",
      "provenance": []
    },
    "kernelspec": {
      "display_name": "Python 3",
      "name": "python3"
    },
    "language_info": {
      "name": "python"
    }
  },
  "nbformat": 4,
  "nbformat_minor": 0
}
